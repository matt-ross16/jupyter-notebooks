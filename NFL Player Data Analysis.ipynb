{
    "cells": [
        {
            "cell_type": "markdown",
            "metadata": {},
            "source": "# Description\nThis notebook analyzes and visualizes NFL player data"
        },
        {
            "cell_type": "code",
            "execution_count": 1,
            "metadata": {},
            "outputs": [
                {
                    "name": "stdout",
                    "output_type": "stream",
                    "text": "Waiting for a Spark session to start...\nSpark Initialization Done! ApplicationId = app-20210417171537-0000\nKERNEL_ID = fc179ce5-b2a1-4487-a0ed-c8c97079d06a\n"
                },
                {
                    "data": {
                        "text/plain": "[Row(player_id='2860', name='Saquon Barkley', position='RB', team='NYG', adp='1.9', adp_formatted='1.02', times_drafted='185', high='1', low='4', stdev='0.8', bye='11', year='2019', teams='10'),\n Row(player_id='2439', name='Alvin Kamara', position='RB', team='NO', adp='2.4', adp_formatted='1.02', times_drafted='90', high='1', low='4', stdev='0.8', bye='6', year='2019', teams='10'),\n Row(player_id='2434', name='Christian McCaffrey', position='RB', team='CAR', adp='3.6', adp_formatted='1.04', times_drafted='112', high='1', low='6', stdev='1.1', bye='13', year='2019', teams='10'),\n Row(player_id='2343', name='Ezekiel Elliott', position='RB', team='DAL', adp='3.8', adp_formatted='1.04', times_drafted='67', high='1', low='6', stdev='1.0', bye='10', year='2019', teams='10'),\n Row(player_id='2470', name='James Conner', position='RB', team='PIT', adp='6.1', adp_formatted='1.06', times_drafted='79', high='1', low='12', stdev='1.6', bye='8', year='2019', teams='10')]"
                    },
                    "execution_count": 1,
                    "metadata": {},
                    "output_type": "execute_result"
                }
            ],
            "source": "# The code was removed by Watson Studio for sharing."
        },
        {
            "cell_type": "code",
            "execution_count": null,
            "metadata": {},
            "outputs": [],
            "source": ""
        }
    ],
    "metadata": {
        "kernelspec": {
            "display_name": "Python 3.7 with Spark",
            "language": "python3",
            "name": "python37"
        },
        "language_info": {
            "codemirror_mode": {
                "name": "ipython",
                "version": 3
            },
            "file_extension": ".py",
            "mimetype": "text/x-python",
            "name": "python",
            "nbconvert_exporter": "python",
            "pygments_lexer": "ipython3",
            "version": "3.7.10"
        }
    },
    "nbformat": 4,
    "nbformat_minor": 1
}